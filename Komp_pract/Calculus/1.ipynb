{
 "cells": [
  {
   "cell_type": "code",
   "id": "initial_id",
   "metadata": {
    "collapsed": true,
    "ExecuteTime": {
     "end_time": "2025-01-23T14:21:06.973952Z",
     "start_time": "2025-01-23T14:21:06.675532Z"
    }
   },
   "source": [
    "import numpy as np\n",
    "import sympy\n",
    "from numpy import linalg\n",
    "from sympy import Symbol, latex"
   ],
   "outputs": [],
   "execution_count": 2
  },
  {
   "metadata": {
    "ExecuteTime": {
     "end_time": "2025-01-23T14:26:15.924665Z",
     "start_time": "2025-01-23T14:26:15.917055Z"
    }
   },
   "cell_type": "code",
   "source": [
    "A = np.array([[-1, 5, -3], [4, -1, 5], [3, 4, 5]])\n",
    "display(A[:,:-1])\n",
    "display(A[:,-1])"
   ],
   "id": "5ba54103f60132f8",
   "outputs": [
    {
     "data": {
      "text/plain": [
       "array([[-1,  5],\n",
       "       [ 4, -1],\n",
       "       [ 3,  4]])"
      ]
     },
     "metadata": {},
     "output_type": "display_data"
    },
    {
     "data": {
      "text/plain": [
       "array([-3,  5,  5])"
      ]
     },
     "metadata": {},
     "output_type": "display_data"
    }
   ],
   "execution_count": 6
  },
  {
   "metadata": {},
   "cell_type": "code",
   "outputs": [],
   "execution_count": null,
   "source": [
    "from google.colab import files\n",
    "import pandas as pd\n"
   ],
   "id": "1bcb5de72e755c54"
  }
 ],
 "metadata": {
  "kernelspec": {
   "display_name": "Python 3",
   "language": "python",
   "name": "python3"
  },
  "language_info": {
   "codemirror_mode": {
    "name": "ipython",
    "version": 2
   },
   "file_extension": ".py",
   "mimetype": "text/x-python",
   "name": "python",
   "nbconvert_exporter": "python",
   "pygments_lexer": "ipython2",
   "version": "2.7.6"
  }
 },
 "nbformat": 4,
 "nbformat_minor": 5
}
