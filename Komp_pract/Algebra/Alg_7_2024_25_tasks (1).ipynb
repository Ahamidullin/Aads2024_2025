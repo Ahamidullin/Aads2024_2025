{
 "nbformat": 4,
 "nbformat_minor": 0,
 "metadata": {
  "kernelspec": {
   "display_name": "Python 3",
   "language": "python",
   "name": "python3"
  },
  "language_info": {
   "codemirror_mode": {
    "name": "ipython",
    "version": 3
   },
   "file_extension": ".py",
   "mimetype": "text/x-python",
   "name": "python",
   "nbconvert_exporter": "python",
   "pygments_lexer": "ipython3",
   "version": "3.7.3"
  },
  "colab": {
   "provenance": []
  }
 },
 "cells": [
  {
   "cell_type": "code",
   "metadata": {
    "id": "8eFsGTqm2yYh",
    "ExecuteTime": {
     "end_time": "2025-01-27T06:48:09.492549Z",
     "start_time": "2025-01-27T06:48:09.476051Z"
    }
   },
   "source": [
    "import sympy\n",
    "from sympy import  Point, Line, Plane, Point3D, Eq, Matrix, S, Symbol, symbols, latex\n",
    "from IPython.display import display, Latex\n",
    "from google.colab import files\n",
    "import pandas as pd"
   ],
   "outputs": [
    {
     "ename": "ModuleNotFoundError",
     "evalue": "No module named 'google'",
     "output_type": "error",
     "traceback": [
      "\u001B[0;31m---------------------------------------------------------------------------\u001B[0m",
      "\u001B[0;31mModuleNotFoundError\u001B[0m                       Traceback (most recent call last)",
      "Cell \u001B[0;32mIn[3], line 4\u001B[0m\n\u001B[1;32m      2\u001B[0m \u001B[38;5;28;01mfrom\u001B[39;00m \u001B[38;5;21;01msympy\u001B[39;00m \u001B[38;5;28;01mimport\u001B[39;00m  Point, Line, Plane, Point3D, Eq, Matrix, S, Symbol, symbols, latex\n\u001B[1;32m      3\u001B[0m \u001B[38;5;28;01mfrom\u001B[39;00m \u001B[38;5;21;01mIPython\u001B[39;00m\u001B[38;5;21;01m.\u001B[39;00m\u001B[38;5;21;01mdisplay\u001B[39;00m \u001B[38;5;28;01mimport\u001B[39;00m display, Latex\n\u001B[0;32m----> 4\u001B[0m \u001B[38;5;28;01mfrom\u001B[39;00m \u001B[38;5;21;01mgoogle\u001B[39;00m\u001B[38;5;21;01m.\u001B[39;00m\u001B[38;5;21;01mcolab\u001B[39;00m \u001B[38;5;28;01mimport\u001B[39;00m files\n\u001B[1;32m      5\u001B[0m \u001B[38;5;28;01mimport\u001B[39;00m \u001B[38;5;21;01mpandas\u001B[39;00m \u001B[38;5;28;01mas\u001B[39;00m \u001B[38;5;21;01mpd\u001B[39;00m\n",
      "\u001B[0;31mModuleNotFoundError\u001B[0m: No module named 'google'"
     ]
    }
   ],
   "execution_count": 3
  },
  {
   "cell_type": "markdown",
   "metadata": {
    "id": "QsFfXQQN2yYq"
   },
   "source": [
    "# Практическое занятие 7\n",
    "# Компьютерный практикум по алгебре на Python\n",
    "https://docs.sympy.org/latest/search.html?q=geometry\n",
    "\n",
    "## Прямые и плоскости в пространстве. Модуль Geometry\n",
    "### Задание 1.\n",
    "Даны точки: $A(7, 5, 4)$,  $B(6, 1, 6)$, $C(5, -3, 8)$, $D(2, 2, 6)$, $F(-7, 8, -1)$.\n",
    "Составить список точек и словарь точек (ключи - точки, значения - имена точек).\n",
    "\n",
    "Составить, пользуясь списком и словарем точек, список и словарь прямых (ключи - прямые Line, значения - имена прямых, состоящие из имен точек, например AD). Рассматривать только прямые, проведенные по различным парам точек, например, $AB$ и $AC$ это разные прямые, а $AB$ и $BA$ это одна и та же прямая, в словарь включаем только $AB$, не включаем $BA$.\n",
    "\n",
    "Вывести на экран значения записей словаря (т.е. имена прямых).\n",
    "\n",
    "Найти среди прямых словаря пары совпадающих прямых, вывести на экран их имена."
   ]
  },
  {
   "cell_type": "code",
   "source": [
    "from sympy.geometry import Point, Line\n",
    "from itertools import combinations\n",
    "\n",
    "A = Point(7, 5, 4)\n",
    "B = Point(6, 1, 6)\n",
    "C = Point(5, -3, 8)\n",
    "D = Point(2, 2, 6)\n",
    "F = Point(-7, 8, -1)\n",
    "\n",
    "points_list = [A, B, C, D, F]\n",
    "points_dict = {A: \"A\", B: \"B\", C: \"C\", D: \"D\", F: \"F\"}\n",
    "\n",
    "lines_list = []\n",
    "lines_dict = {}\n",
    "\n",
    "for p1, p2 in combinations(points_list, 2):\n",
    "    L = Line(p1, p2)\n",
    "    line_name = points_dict[p1] + points_dict[p2]\n",
    "    lines_list.append(L)\n",
    "    lines_dict[L] = line_name\n",
    "\n",
    "# for name in lines_dict.values():\n",
    "#     print(name)\n",
    "\n",
    "# print(\"\\nСовпадающие прямые (если есть):\")\n",
    "found_coinciding = False\n",
    "for i in range(len(lines_list)):\n",
    "    for j in range(i+1, len(lines_list)):\n",
    "        if lines_list[i].equals(lines_list[j]):\n",
    "            name1 = lines_dict[lines_list[i]]\n",
    "            name2 = lines_dict[lines_list[j]]\n",
    "            print(f\"{name1} и {name2} совпадают.\")\n",
    "            found_coinciding = True\n",
    "\n",
    "if not found_coinciding:\n",
    "    print(\"Совпадающих прямых не обнаружено.\")\n",
    "    \n"
   ],
   "metadata": {
    "id": "U0VPFi2nt5Ru",
    "ExecuteTime": {
     "end_time": "2025-01-27T07:10:50.047488Z",
     "start_time": "2025-01-27T07:10:50.000911Z"
    }
   },
   "outputs": [
    {
     "name": "stdout",
     "output_type": "stream",
     "text": [
      "AB и AC совпадают.\n",
      "AB и BC совпадают.\n",
      "AC и BC совпадают.\n"
     ]
    }
   ],
   "execution_count": 7
  },
  {
   "cell_type": "markdown",
   "metadata": {
    "id": "DFLIFpCO2yYz"
   },
   "source": [
    "###  Задание 2\n",
    "Составить список всех плоскостей, проходящих через любые три точки Задания 1 (плоксости, построенные по одинаковым точкам считаются одной плоскостью, т.е. ABC, CBA, ACB и т.п. это одна и та же плоскость, в список включать только ABC). Вывести на экран названия и  уравнения плоскостей из списка и расстояние от  плоскостей до начала координат."
   ]
  },
  {
   "cell_type": "code",
   "source": [
    "from sympy.geometry import Point, Plane, Line\n",
    "from itertools import combinations\n",
    "\n",
    "A = Point(7, 5, 4)\n",
    "B = Point(6, 1, 6)\n",
    "C = Point(5, -3, 8)\n",
    "D = Point(2, 2, 6)\n",
    "F = Point(-7, 8, -1)\n",
    "\n",
    "points_list = [A, B, C, D, F]\n",
    "points_dict = {A: \"A\", B: \"B\", C: \"C\", D: \"D\", F: \"F\"}\n",
    "\n",
    "planes_list = []\n",
    "planes_dict = {}\n",
    "\n",
    "for p1, p2, p3 in combinations(points_list, 3):\n",
    "    if not Line(p1, p2).contains(p3):  # Проверка на неколлинеарность\n",
    "        P = Plane(p1, p2, p3)\n",
    "        plane_name = points_dict[p1] + points_dict[p2] + points_dict[p3]\n",
    "        if P not in planes_list:\n",
    "            planes_list.append(P)\n",
    "            planes_dict[P] = plane_name\n",
    "\n",
    "print(\"Названия и уравнения плоскостей:\")\n",
    "for plane, name in planes_dict.items():\n",
    "    print(f\"{name}: {plane.equation()}\")\n",
    "\n",
    "print(\"\\nРасстояние от плоскостей до начала координат:\")\n",
    "for plane, name in planes_dict.items():\n",
    "    distance = plane.distance(Point(0, 0, 0))\n",
    "    print(f\"{name}: {distance}\")\n",
    "\n"
   ],
   "metadata": {
    "id": "iyjiHk_St6_g",
    "ExecuteTime": {
     "end_time": "2025-01-27T07:17:21.945765Z",
     "start_time": "2025-01-27T07:17:21.793830Z"
    }
   },
   "outputs": [
    {
     "name": "stdout",
     "output_type": "stream",
     "text": [
      "Названия и уравнения плоскостей:\n",
      "ABD: -2*x - 8*y - 17*z + 122\n",
      "ABF: 14*x - 33*y - 59*z + 303\n",
      "ACD: -4*x - 16*y - 34*z + 244\n",
      "ACF: 28*x - 66*y - 118*z + 606\n",
      "ADF: 9*x - 53*y - 57*z + 430\n",
      "BCD: -2*x - 8*y - 17*z + 122\n",
      "BCF: 14*x - 33*y - 59*z + 303\n",
      "BDF: -7*x - 28*y - 15*z + 160\n",
      "CDF: -23*x - 3*y + 27*z - 110\n",
      "\n",
      "Расстояние от плоскостей до начала координат:\n",
      "ABD: 122*sqrt(357)/357\n",
      "ABF: 303*sqrt(4766)/4766\n",
      "ACD: 122*sqrt(357)/357\n",
      "ACF: 303*sqrt(4766)/4766\n",
      "ADF: 430*sqrt(6139)/6139\n",
      "BCD: 122*sqrt(357)/357\n",
      "BCF: 303*sqrt(4766)/4766\n",
      "BDF: 80*sqrt(2)/23\n",
      "CDF: 110*sqrt(1267)/1267\n"
     ]
    }
   ],
   "execution_count": 9
  },
  {
   "cell_type": "markdown",
   "source": [
    "###  Задание 2*\n",
    "Составить список всех **различных** плоскостей, проходящих через любые три точки Задания 1. Вывести на экран названия и  уравнения каждой плоскости из списка и расстояние от  плоскости до самой далекой от нее точки."
   ],
   "metadata": {
    "id": "szAjbRFeJ724"
   }
  },
  {
   "cell_type": "code",
   "source": [],
   "metadata": {
    "id": "zZuNIq_6NS0a"
   },
   "execution_count": 1,
   "outputs": []
  },
  {
   "cell_type": "markdown",
   "metadata": {
    "id": "Y9SJb76H2yY1"
   },
   "source": [
    "###  Задание 3\n",
    "Точка $G(-1, 2, 0)$, остальные точки из Задания 1. Построить плоскость, перпендикулярную плоскости $ABG$, проходящую через $D$ и $F$. Построить плоскость, параллельную плоскости $ABF$, проходящую через $D$. Найти линию пересечения построенных плоскостей и расстояние от линии до $ABG$.\n",
    "\n",
    "Вывести на экран уравнения построенных  плоскостей, линии пересечения $ABG$  и расстояние от линии  пересечения до $ABG$."
   ]
  },
  {
   "cell_type": "code",
   "metadata": {
    "id": "9keM54mV2yY2"
   },
   "source": [],
   "execution_count": 1,
   "outputs": []
  },
  {
   "cell_type": "markdown",
   "metadata": {
    "id": "YQtDk8082yY6"
   },
   "source": [
    "###  Задание 4*\n",
    "Вася хочет развесить гирлянду по вершинам растущих во дворе деревьев, координаты вершин в файле \"trees.xlsx\". Гирлянды расходятся от одного из деревьев к каждому из остальных. Длины гирлянд, соединяющих два дерева, - целые числа (если расстояние между вершинами деревьев не целое число, то длина округляется в **большую** сторону).\n",
    "\n",
    "Записать в файл \"chains.xlsx\" суммарную длину гирлянд, расходящихся от центра, если центром может быть любое дерево из \"trees.xlsx\", подпись строки - название центрального дерева. В файле строки должны быть расположены по возрастанию суммарной длины гирлянд."
   ]
  },
  {
   "cell_type": "code",
   "source": [],
   "metadata": {
    "id": "5ZbSTXffbAWh"
   },
   "execution_count": 1,
   "outputs": []
  },
  {
   "cell_type": "markdown",
   "metadata": {
    "id": "RyK8Ftfp2yY7"
   },
   "source": [
    "### Индивидуальное задание\n",
    "\n",
    "Дан файл 'points_ind.xlsx' с координатами и именами точек.\n",
    "\n",
    "Составить словарь с ключами - точками (например, Point3D(3, 2, 1)) и значениями - именами точек ('A', 'B' и т.д.). Найти и вывести на экран\n",
    "\n",
    ">расстояние от точек $D$ и $F$ до плоскости $ABC$,\n",
    "\n",
    ">уравнение плоскости $ABC$,\n",
    "\n",
    ">параметрические уравнения прямой $DF$.\n",
    "\n",
    "Определить и вывести на экран, какие 4 из заданных точек лежат в одной плоскости (пользуясь словарем точек, вывести имена точек).\n",
    "\n",
    "Определить и вывести на экран, какие 3 из заданных точек лежат на одной прямой (пользуясь словарем точек, вывести имена точек)."
   ]
  },
  {
   "cell_type": "code",
   "metadata": {
    "id": "FyP2abYp2yY7"
   },
   "source": [],
   "execution_count": 1,
   "outputs": []
  }
 ]
}
